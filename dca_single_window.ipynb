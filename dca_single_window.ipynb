{
 "cells": [
  {
   "cell_type": "markdown",
   "metadata": {},
   "source": [
    "# Mathematical Model (Single Time Interval)"
   ]
  },
  {
   "cell_type": "markdown",
   "metadata": {},
   "source": [
    "### Sets\n",
    "* $M = \\{1 \\text{ (t4g.nano)} , 2 \\text{ (t4g.medium)}, 3 \\text{ (t4g.xlarge)}, 4 \\text{ (r8g.large)}, 5 \\text{ (c8g.xlarge)}, 6 \\text{ (r8g.2xlarge)}, \\\\\n",
    "\\quad \\quad \\quad 7 \\text{ (c8g.4xlarge)}, 8 \\text{ (c8g.8xlarge)}, 9 \\text{ (m8g.8xlarge)}, 10 \\text{ (r8g.8xlarge)}, 11 \\text{ (m8g.12xlarge)}, 12 \\text { (c8g.16xlarge)}\\}$ \n",
    "= Set of Machine Types\n",
    "* $S$ = Set of Tasks\n",
    "* $J = \\{1,2, \\dots ,|S|\\}$ = Index set of potential instances per machine type\n",
    "\n",
    "\n",
    "### Decision Variables\n",
    "* $x_{ijk}$ : 1 if task $k \\in S$ is assigned to instance $j \\in J$ of machine type $i \\in M$, 0 otherwise\n",
    "* $y_{ij}$ : 1 if instance $j \\in J$ of machine type $i \\in M$ is used, 0 otherwise\n",
    "\n",
    "### Parameters\n",
    "* $c_i$ : cost per hour in \\$ of machine type $i \\in M$\n",
    "* $p_i$ : CPU limit in vCPUs of machine type $i \\in M$\n",
    "* $q_i$ : Memory limit in GiB of machine type $i \\in M$\n",
    "* $m_k$ : CPU requirement in vCPUs of task $k \\in S$\n",
    "* $n_k$ : Memory requirement in GiB of task $k \\in S$\n",
    "* $W$ : size of time window in hrs for which tasks are executing\n",
    "* $\\alpha = 0.1 $ : instance startup time in hrs (6 min)\n",
    "* $s_i = \\alpha c_i$ : startup cost in Dollars of an instance of machine type $i \\in M$\n",
    "\n",
    "### Objective Function\n",
    "$\\displaystyle \\min \\sum_{i \\in M} \\sum_{j \\in J} (W c_i y_{ij} + s_iy_{ij})$\n",
    "\n",
    "### Constraints\n",
    "* $\\displaystyle \\sum_{k \\in S} m_k x_{ijk} \\leq p_i \\,, \\quad \\forall i \\in M, j \\in J$ `(CPU constraint per instance per machine type)`\n",
    "* $\\displaystyle \\sum_{k \\in S} n_k x_{ijk} \\leq q_i \\,, \\quad \\forall i \\in M, j \\in J$ `(Memory constraint per instance per machine type)`\n",
    "* $\\displaystyle \\sum_{i \\in M} \\sum_{j  \\in J}  x_{ijk} = 1 \\,, \\quad \\forall k \\in S$ `(each task can only be assigned to 1 specific instance)`\n",
    "* $\\displaystyle y_{ij} \\leq \\sum_{k \\in S} x_{ijk} \\leq |S|\\,y_{ij} \\,, \\quad \\forall i \\in M, j \\in J$  `(link x and y constraint)`\n",
    "* $x_{ijk} \\in \\{0,1\\} \\,, \\quad \\forall i \\in M, j \\in J, k \\in S$\n",
    "* $y_{ij} \\in \\{0,1\\} \\,, \\quad \\forall i \\in M, j \\in J$\n"
   ]
  },
  {
   "cell_type": "markdown",
   "metadata": {},
   "source": [
    "# Solution (Single Time Interval)"
   ]
  },
  {
   "cell_type": "code",
   "execution_count": 2,
   "metadata": {},
   "outputs": [],
   "source": [
    "function check_optimality(m)\n",
    "    stat = termination_status(m)\n",
    "    if stat != MOI.OPTIMAL\n",
    "        println(\"Solver did not find an optimal solution: $stat\")\n",
    "    end\n",
    "end;"
   ]
  },
  {
   "cell_type": "code",
   "execution_count": 1,
   "metadata": {},
   "outputs": [
    {
     "name": "stdout",
     "output_type": "stream",
     "text": [
      "Number of machine types: 12\n",
      "Number of tasks: 24\n"
     ]
    }
   ],
   "source": [
    "using CSV, DataFrames\n",
    "\n",
    "# Read EC2 types\n",
    "ec2_df = CSV.read(\"ec2_subset.csv\", DataFrame)\n",
    "\n",
    "M = collect(1:nrow(ec2_df)) # machine types\n",
    "println(\"Number of machine types: \", length(M))\n",
    "machine_name = Dict(i => ec2_df.Type[i] for i in M)\n",
    "\n",
    "c = Dict(i => ec2_df.Cost[i] for i in M) # cost per hour of machine type\n",
    "p = Dict(i => ec2_df.vCPUs[i] for i in M) # CPU limit of machine type\n",
    "q = Dict(i => ec2_df.Memory[i] for i in M) # Memory limit of machine type\n",
    "W = 3 # time interval window size\n",
    "α = 0.1 # instance startup time\n",
    "s = Dict(i => α * c[i] for i in M) # startup cost in $ of machine type\n",
    "\n",
    "# Read tasks\n",
    "tasks_df = CSV.read(\"tasks_t7.csv\", DataFrame)\n",
    "S = collect(1:nrow(tasks_df)) # task indices\n",
    "J = collect(1:nrow(tasks_df)) # job indices\n",
    "println(\"Number of tasks: \", length(S))\n",
    "m = Dict(k => tasks_df.cpu_cores[k] for k in S) # CPU cores required by task k\n",
    "n = Dict(k => tasks_df.mem_gb[k] for k in S); # Memory required by task k"
   ]
  },
  {
   "cell_type": "code",
   "execution_count": 6,
   "metadata": {},
   "outputs": [
    {
     "name": "stdout",
     "output_type": "stream",
     "text": [
      "Minimized total cost: 2.499839999999995\n",
      "Machine type: t4g.nano, CPU limit: 2, Memory limit: 0.5\n",
      "  Total instances: 0.0\n",
      "  Total assigned tasks: 0.0\n",
      "Machine type: t4g.medium, CPU limit: 2, Memory limit: 4.0\n",
      "  Total instances: 15.99999999999995\n",
      "  Total assigned tasks: 15.999999999999927\n",
      "        Task 21 (CPU: 2, Memory: 0.5088) is assigned to instance 1\n",
      "        Task 20 (CPU: 2, Memory: 0.5088) is assigned to instance 2\n",
      "        Task 11 (CPU: 1, Memory: 3.0544) is assigned to instance 3\n",
      "        Task 2 (CPU: 1, Memory: 2.5472) is assigned to instance 4\n",
      "        Task 4 (CPU: 1, Memory: 2.5472) is assigned to instance 5\n",
      "        Task 24 (CPU: 2, Memory: 2.8) is assigned to instance 7\n",
      "        Task 3 (CPU: 1, Memory: 2.5472) is assigned to instance 8\n",
      "        Task 22 (CPU: 2, Memory: 1.22272) is assigned to instance 9\n",
      "        Task 8 (CPU: 1, Memory: 2.5472) is assigned to instance 10\n",
      "        Task 1 (CPU: 1, Memory: 2.5472) is assigned to instance 11\n",
      "        Task 5 (CPU: 1, Memory: 2.5472) is assigned to instance 12\n",
      "        Task 12 (CPU: 1, Memory: 3.3088) is assigned to instance 13\n",
      "        Task 10 (CPU: 1, Memory: 2.6752) is assigned to instance 14\n",
      "        Task 23 (CPU: 2, Memory: 2.5472) is assigned to instance 15\n",
      "        Task 14 (CPU: 1, Memory: 3.8208) is assigned to instance 19\n",
      "        Task 16 (CPU: 1, Memory: 3.8208) is assigned to instance 24\n",
      "Machine type: t4g.xlarge, CPU limit: 4, Memory limit: 16.0\n",
      "  Total instances: 2.0\n",
      "  Total assigned tasks: 7.999999999999989\n",
      "        Task 13 (CPU: 1, Memory: 3.8208) is assigned to instance 12\n",
      "        Task 15 (CPU: 1, Memory: 3.8208) is assigned to instance 12\n",
      "        Task 17 (CPU: 1, Memory: 4.0704) is assigned to instance 12\n",
      "        Task 19 (CPU: 1, Memory: 4.0704) is assigned to instance 12\n",
      "        Task 6 (CPU: 1, Memory: 2.5472) is assigned to instance 13\n",
      "        Task 7 (CPU: 1, Memory: 2.5472) is assigned to instance 13\n",
      "        Task 9 (CPU: 1, Memory: 2.5472) is assigned to instance 13\n",
      "        Task 18 (CPU: 1, Memory: 4.0704) is assigned to instance 13\n",
      "Machine type: r8g.large, CPU limit: 2, Memory limit: 16.0\n",
      "  Total instances: 0.0\n",
      "  Total assigned tasks: 0.0\n",
      "Machine type: c8g.xlarge, CPU limit: 4, Memory limit: 8.0\n",
      "  Total instances: 0.0\n",
      "  Total assigned tasks: 0.0\n",
      "Machine type: r8g.2xlarge, CPU limit: 8, Memory limit: 64.0\n",
      "  Total instances: 0.0\n",
      "  Total assigned tasks: 0.0\n",
      "Machine type: c8g.4xlarge, CPU limit: 16, Memory limit: 32.0\n",
      "  Total instances: 0.0\n",
      "  Total assigned tasks: 0.0\n",
      "Machine type: c8g.8xlarge, CPU limit: 32, Memory limit: 64.0\n",
      "  Total instances: 0.0\n",
      "  Total assigned tasks: 0.0\n",
      "Machine type: m8g.8xlarge, CPU limit: 32, Memory limit: 128.0\n",
      "  Total instances: 0.0\n",
      "  Total assigned tasks: 0.0\n",
      "Machine type: r8g.8xlarge, CPU limit: 32, Memory limit: 256.0\n",
      "  Total instances: 0.0\n",
      "  Total assigned tasks: 0.0\n",
      "Machine type: m8g.12xlarge, CPU limit: 48, Memory limit: 192.0\n",
      "  Total instances: 0.0\n",
      "  Total assigned tasks: 0.0\n",
      "Machine type: c8g.16xlarge, CPU limit: 64, Memory limit: 128.0\n",
      "  Total instances: 0.0\n",
      "  Total assigned tasks: 0.0\n"
     ]
    }
   ],
   "source": [
    "using JuMP, HiGHS\n",
    "model = Model(HiGHS.Optimizer)\n",
    "\n",
    "@variable(model, x[i in M, j in J, k in S], Bin) # x[i,j,k] = 1 if task k is assigned to instance j of type i\n",
    "@variable(model, y[i in M, j in J], Bin) # y[i,j] = 1 if instance j of type i is used\n",
    "\n",
    "@objective(model, Min, sum(W*c[i]*y[i,j] + s[i]*y[i,j] for i in M, j in J)) # minimize cost\n",
    "\n",
    "@constraint(model, [i in M, j in J], sum(m[k]*x[i,j,k] for k in S) <= p[i]) # CPU limit\n",
    "@constraint(model, [i in M, j in J], sum(n[k]*x[i,j,k] for k in S) <= q[i]) # Memory limit\n",
    "\n",
    "@constraint(model, [k in S], sum(x[i,j,k] for i in M, j in J) == 1) # each task is assigned to one instance\n",
    "\n",
    "@constraint(model, [i in M, j in J], y[i,j] <= sum(x[i,j,k] for k in S)) # instance is active if it has tasks assigned\n",
    "@constraint(model, [i in M, j in J], sum(x[i,j,k] for k in S) <= length(S)*y[i,j]) # instance can only have tasks assigned if active\n",
    "\n",
    "set_silent(model)\n",
    "optimize!(model)\n",
    "check_optimality(model)\n",
    "\n",
    "println(\"Minimized total cost: \", objective_value(model))\n",
    "for i in M\n",
    "    println(\"Machine type: \", machine_name[i], \", CPU limit: \", p[i], \", Memory limit: \", q[i])\n",
    "    println(\"  Total instances: \", sum(value(y[i, j]) for j in J))\n",
    "    println(\"  Total assigned tasks: \", sum(value(x[i, j, k]) for j in J, k in S))\n",
    "    for j in J\n",
    "        if value(y[i, j]) > 0.5\n",
    "            for k in S\n",
    "                if value(x[i, j, k]) > 0.5\n",
    "                    println(\"        Task $k (CPU: \", m[k] , \", Memory: \", n[k] ,\") is assigned to instance $j\")\n",
    "                end\n",
    "            end\n",
    "        end\n",
    "    end\n",
    "end"
   ]
  },
  {
   "cell_type": "code",
   "execution_count": null,
   "metadata": {},
   "outputs": [],
   "source": []
  }
 ],
 "metadata": {
  "kernelspec": {
   "display_name": "Julia 1.11.3",
   "language": "julia",
   "name": "julia-1.11"
  },
  "language_info": {
   "file_extension": ".jl",
   "mimetype": "application/julia",
   "name": "julia",
   "version": "1.11.3"
  }
 },
 "nbformat": 4,
 "nbformat_minor": 2
}
