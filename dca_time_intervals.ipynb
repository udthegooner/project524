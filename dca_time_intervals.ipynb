{
 "cells": [
  {
   "cell_type": "markdown",
   "metadata": {},
   "source": [
    "# Mathematical Model (Across Time Intervals)"
   ]
  },
  {
   "cell_type": "markdown",
   "metadata": {},
   "source": [
    "#### Sets\n",
    "* $M = \\{1 \\text{ (t4g.nano)} , 2 \\text{ (t4g.medium)}, 3 \\text{ (t4g.xlarge)}, 4 \\text{ (r8g.large)}, 5 \\text{ (c8g.xlarge)}, 6 \\text{ (r8g.2xlarge)}, \\\\\n",
    "\\quad \\quad \\quad 7 \\text{ (c8g.4xlarge)}, 8 \\text{ (c8g.8xlarge)}, 9 \\text{ (m8g.8xlarge)}, 10 \\text{ (r8g.8xlarge)}, 11 \\text{ (m8g.12xlarge)}, 12 \\text { (c8g.16xlarge)}\\}$ \n",
    "= Set of Machine Types\n",
    "* $T = \\{ 1\\ (\\text{12am--3am}),\\ 2\\ (\\text{3am--6am}),\\ 3\\ (\\text{6am--9am}),\\ 4\\ (\\text{9am--12pm}),\\ 5\\ (\\text{12pm--3pm}), \\\\\n",
    "\\quad \\quad \\quad 6\\ (\\text{3pm--6pm}),\\ 7\\ (\\text{6pm--9pm}),\\ 8\\ (\\text{9pm--12am}) \\}$ = Set of Time Intervals\n",
    "* $S_t$ = Set of given tasks arriving in interval $t \\in T$\n",
    "* $J_t = \\{1,2, \\dots ,|S_t|\\}$ = Index set of potential instances per machine type in interval $t \\in T$\n",
    "\n",
    "#### Decision Variables\n",
    "* $x_{ijkt}$ : 1 if task $k \\in S_t$ is assigned to instance $j \\in J_t$ of machine type $i \\in M$ during interval $t \\in T$, 0 otherwise\n",
    "* $y_{ijt}$ : 1 if instance $j \\in J_t$ of machine type $i \\in M$ is used in interval $t \\in T$, 0 otherwise\n",
    "* $f_{it}$ : number of instances of machine type $i \\in M$ active at the end of interval $t \\in T$\n",
    "* $g_{it}$ : number of new instances of machine type $i \\in M$ spun up in interval $t \\in T$\n",
    "* $r_{it}$ : number of active instances of machine type $i \\in M$ shut down at beginning of interval $t \\in T$\n",
    "\n",
    "#### Parameters\n",
    "* $c_i$ : cost per hour in \\$ of machine type $i \\in M$\n",
    "* $p_i$ : CPU limit in vCPUs of machine type $i \\in M$\n",
    "* $q_i$ : Memory limit in GiB of machine type $i \\in M$\n",
    "* $m_k$ : CPU requirement in vCPUs of task $k \\in S_t$\n",
    "* $n_k$ : Memory requirement in GiB of task $k \\in S_t$\n",
    "* $W$ : size of time window in hrs for which tasks are executing\n",
    "* $\\alpha = 0.1 $ : instance startup time in hrs (6 min)\n",
    "* $s_i = \\alpha c_i$ : startup cost in Dollars of an instance of machine type $i \\in M$\n",
    "\n",
    "#### Objective Function\n",
    "$\\displaystyle \\min \\sum_{t \\in T} \\sum_{i \\in M} (W c_i f_{it} + s_i g_{it})$\n",
    "\n",
    "#### Constraints\n",
    "* $\\displaystyle \\sum_{k \\in S_t} m_k x_{ijkt} \\leq p_i \\,, \\quad \\forall i \\in M, j \\in J_t, t \\in T$ `(CPU constraint per instance per machine type)`\n",
    "* $\\displaystyle \\sum_{k \\in S_t} n_k x_{ijkt} \\leq q_i \\,, \\quad \\forall i \\in M, j \\in J_t, t \\in T$ `(Memory constraint per instance per machine type)`\n",
    "* $\\displaystyle \\sum_{i \\in M} \\sum_{j  \\in J_t}  x_{ijkt} = 1 \\,, \\quad \\forall k \\in S_t, t \\in T$ `(each task can only be assigned to 1 specific instance)`\n",
    "* $\\displaystyle y_{ijt} \\leq \\sum_{k \\in S_t} x_{ijkt} \\leq |S_t|\\,y_{ijt} \\,, \\quad \\forall i \\in M, j \\in J_t, t \\in T$ `(link x and y constraint)`\n",
    "* $\\displaystyle \\sum_{j \\in J_t} y_{ijt} = f_{it} \\,, \\quad \\forall i \\in M, t \\in T$ `(active instance count relationship/constraint)`\n",
    "* $\\displaystyle f_{it} = f_{i(t-1)} + g_{it} - r_{it} \\,, \\quad \\forall i \\in M, t \\in T$ `(flow balance constraint)`\n",
    "* $r_{it} \\leq f_{i(t-1)}  \\,, \\quad \\forall i \\in M, t \\in T$ `(shut down cannot exceed previous active)`\n",
    "* $x_{ijkt} \\in \\{0,1\\} \\,, \\quad \\forall i \\in M, j \\in J_t, k \\in S_t, t \\in T$\n",
    "* $y_{ijt} \\in \\{0,1\\} \\,, \\quad \\forall i \\in M, j \\in J_t, t \\in T$\n",
    "* $f_{it}, g_{it}, r_{it} \\geq 0  \\,, \\quad \\forall i \\in M, t \\in T$\n",
    "* $f_{i0} = 0  \\,, \\quad\\forall i \\in M$\n"
   ]
  },
  {
   "cell_type": "markdown",
   "metadata": {},
   "source": [
    "# Solution (Across Time Intervals)"
   ]
  },
  {
   "cell_type": "code",
   "execution_count": 2,
   "metadata": {},
   "outputs": [],
   "source": [
    "function check_optimality(m)\n",
    "    stat = termination_status(m)\n",
    "    if stat != MOI.OPTIMAL\n",
    "        println(\"Solver did not find an optimal solution: $stat\")\n",
    "    end\n",
    "end;"
   ]
  },
  {
   "cell_type": "code",
   "execution_count": 7,
   "metadata": {},
   "outputs": [
    {
     "name": "stdout",
     "output_type": "stream",
     "text": [
      "Number of machine types: 12\n",
      "Number of tasks in time interval 1: 27\n",
      "Number of tasks in time interval 2: 18\n",
      "Number of tasks in time interval 3: 20\n",
      "Number of tasks in time interval 4: 22\n",
      "Number of tasks in time interval 5: 27\n",
      "Number of tasks in time interval 6: 32\n",
      "Number of tasks in time interval 7: 24\n",
      "Number of tasks in time interval 8: 34\n"
     ]
    }
   ],
   "source": [
    "using CSV, DataFrames\n",
    "\n",
    "# Read EC2 types\n",
    "ec2_df = CSV.read(\"ec2_subset.csv\", DataFrame)\n",
    "\n",
    "# Read tasks (one CSV per time interval)\n",
    "tasks_df = Dict()\n",
    "for t in 1:8\n",
    "    tasks_df[t] = CSV.read(\"tasks_t$(t).csv\", DataFrame)\n",
    "end\n",
    "\n",
    "M = collect(1:nrow(ec2_df)) # machine types\n",
    "println(\"Number of machine types: \", length(M))\n",
    "machine_name = Dict(i => ec2_df.Type[i] for i in M)\n",
    "\n",
    "c = Dict(i => ec2_df.Cost[i] for i in M) # cost per hour of machine type\n",
    "p = Dict(i => ec2_df.vCPUs[i] for i in M) # CPU limit of machine type\n",
    "q = Dict(i => ec2_df.Memory[i] for i in M) # Memory limit of machine type\n",
    "\n",
    "W = 3 # time interval window size\n",
    "α = 0.1 # instance startup time\n",
    "s = Dict(i => α * c[i] for i in M) # startup cost in $ of machine type\n",
    "T = collect(1:8) # time intervals\n",
    "\n",
    "S = Dict() # Set of tasks in each time interval\n",
    "J = Dict() # Set of instances in each time interval\n",
    "m = Dict() # CPU req\n",
    "n = Dict() # Mem req\n",
    "\n",
    "for t in T\n",
    "    df = tasks_df[t]\n",
    "    S[t] = collect(1:nrow(df))  # Task indices\n",
    "    J[t] = collect(1:nrow(df)) # Instance indices\n",
    "    println(\"Number of tasks in time interval $t: \", length(S[t]))\n",
    "    m[t] = Dict(k => df.cpu_cores[k] for k in S[t])\n",
    "    n[t] = Dict(k => df.mem_gb[k] for k in S[t])\n",
    "end;"
   ]
  },
  {
   "cell_type": "code",
   "execution_count": null,
   "metadata": {},
   "outputs": [
    {
     "name": "stdout",
     "output_type": "stream",
     "text": [
      "Set parameter Username\n",
      "Set parameter LicenseID to value 2650823\n",
      "Academic license - for non-commercial use only - expires 2026-04-13\n",
      "Solver did not find an optimal solution: MEMORY_LIMIT\n"
     ]
    }
   ],
   "source": [
    "using JuMP, HiGHS\n",
    "model = Model(HiGHS.Optimizer)\n",
    "\n",
    "@variable(model, f[i in M, t in T] >= 0) # number of active instances of type i at end of interval t\n",
    "@variable(model, g[i in M, t in T] >= 0) # number of instances of type i started at beginning of interval t\n",
    "@variable(model, r[i in M, t in T] >= 0) # number of instances of type i terminated at beginning of interval t\n",
    "\n",
    "# time varying binary variables\n",
    "x = Dict()\n",
    "y = Dict()\n",
    "\n",
    "for t in T\n",
    "    x[t] = @variable(model, [i in M, j in J[t], k in S[t]], Bin) # task k is assigned to instance j of type i in interval t\n",
    "    y[t] = @variable(model, [i in M, j in J[t]], Bin) # instance j of type i is active in interval t\n",
    "end\n",
    "\n",
    "@objective(model, Min, sum(W*c[i]*f[i,t] + s[i]*g[i,t] for i in M, t in T))\n",
    "\n",
    "for t in T, i in M, j in J[t]\n",
    "    @constraint(model, sum(m[t][k] * x[t][i,j,k] for k in S[t]) <= p[i]) # CPU constraint\n",
    "    @constraint(model, sum(n[t][k] * x[t][i,j,k] for k in S[t]) <= q[i]) # Memory constraint\n",
    "end\n",
    "\n",
    "for t in T, k in S[t]\n",
    "    @constraint(model, sum(x[t][i,j,k] for i in M, j in J[t]) == 1) # each task is assigned to one instance\n",
    "end\n",
    "\n",
    "for t in T, i in M, j in J[t]\n",
    "    @constraint(model, y[t][i,j] <= sum(x[t][i,j,k] for k in S[t])) # instance is active if it has tasks assigned\n",
    "    @constraint(model, sum(x[t][i,j,k] for k in S[t]) <= y[t][i,j] * length(S[t])) # instance can only have tasks assigned if active\n",
    "end\n",
    "\n",
    "for t in T, i in M\n",
    "    @constraint(model, sum(y[t][i,j] for j in J[t]) == f[i,t]) # number of active instances at end of interval t\n",
    "end\n",
    "\n",
    "for i in M\n",
    "    @constraint(model, f[i,1] == g[i,1] - r[i,1])  # number of active instances at beginning of interval 1\n",
    "\n",
    "    for t in 2:length(T)\n",
    "        @constraint(model, f[i,t] == f[i,t-1] + g[i,t] - r[i,t]) # flow balance\n",
    "        @constraint(model, r[i,t] <= f[i,t-1]) # # of instances terminated cannot exceed # of instances at beginning of interval t\n",
    "    end\n",
    "end\n",
    "\n",
    "set_silent(model)\n",
    "optimize!(model)\n",
    "check_optimality(model)"
   ]
  },
  {
   "cell_type": "code",
   "execution_count": null,
   "metadata": {},
   "outputs": [],
   "source": [
    "println(\"Minimized total cost: \", objective_value(model))\n",
    "for t in T\n",
    "    println(\"Time interval $t:\")\n",
    "    for i in M\n",
    "        println(\"  Machine type $(machine_name[i]):\")\n",
    "        println(\"    Active instances: \", value(f[i,t]))\n",
    "        println(\"    Started instances: \", value(g[i,t]))\n",
    "        println(\"    Terminated instances: \", value(r[i,t]))\n",
    "        for j in J[t]\n",
    "            if value(y[t][i,j]) > 0.5\n",
    "                println(\"      Instance $j is active\")\n",
    "                for k in S[t]\n",
    "                    if value(x[t][i,j,k]) > 0.5\n",
    "                        println(\"        Task $k is assigned to instance $j\")\n",
    "                    end\n",
    "                end\n",
    "            end\n",
    "        end\n",
    "    end\n",
    "end"
   ]
  }
 ],
 "metadata": {
  "kernelspec": {
   "display_name": "Julia 1.11.3",
   "language": "julia",
   "name": "julia-1.11"
  },
  "language_info": {
   "file_extension": ".jl",
   "mimetype": "application/julia",
   "name": "julia",
   "version": "1.11.3"
  }
 },
 "nbformat": 4,
 "nbformat_minor": 2
}
